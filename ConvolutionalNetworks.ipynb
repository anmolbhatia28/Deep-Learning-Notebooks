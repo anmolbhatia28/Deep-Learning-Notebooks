{
 "cells": [
  {
   "cell_type": "markdown",
   "metadata": {},
   "source": [
    "# Convolutional Networks\n",
    "So far we have worked with deep fully-connected networks, using them to explore different optimization strategies and network architectures. Fully-connected networks are a good testbed for experimentation because they are very computationally efficient, but in practice all state-of-the-art results use convolutional networks instead.\n"
   ]
  },
  {
   "cell_type": "code",
   "execution_count": 5,
   "metadata": {
    "collapsed": false
   },
   "outputs": [],
   "source": [
    "# As usual, a bit of setup\n",
    "\n",
    "import numpy as np\n",
    "import matplotlib.pyplot as plt\n",
    "from utils.data_utils import get_CIFAR10_data\n",
    "\n",
    "%matplotlib inline\n",
    "def rel_error(x, y):\n",
    "  \"\"\" returns relative error \"\"\"\n",
    "  return np.max(np.abs(x - y) / (np.maximum(1e-8, np.abs(x) + np.abs(y))))"
   ]
  },
  {
   "cell_type": "code",
   "execution_count": 7,
   "metadata": {
    "collapsed": false
   },
   "outputs": [
    {
     "name": "stdout",
     "output_type": "stream",
     "text": [
      "X_val:  (1000, 3, 32, 32)\n",
      "y_test:  (1000,)\n",
      "y_train:  (49000,)\n",
      "X_test:  (1000, 3, 32, 32)\n",
      "X_train:  (49000, 3, 32, 32)\n",
      "y_val:  (1000,)\n"
     ]
    }
   ],
   "source": [
    "# Load the (preprocessed) CIFAR10 data.\n",
    "\n",
    "data = get_CIFAR10_data()\n",
    "for k, v in data.items():\n",
    "  print('%s: ' % k, v.shape)"
   ]
  },
  {
   "cell_type": "code",
   "execution_count": 13,
   "metadata": {
    "collapsed": true
   },
   "outputs": [],
   "source": [
    "def eval_numerical_gradient_array(f, x, df, h=1e-5):\n",
    "  \"\"\"\n",
    "  Evaluate a numeric gradient for a function that accepts a numpy\n",
    "  array and returns a numpy array.\n",
    "  \"\"\"\n",
    "  grad = np.zeros_like(x)\n",
    "  it = np.nditer(x, flags=['multi_index'], op_flags=['readwrite'])\n",
    "  while not it.finished:\n",
    "    ix = it.multi_index\n",
    "    \n",
    "    oldval = x[ix]\n",
    "    x[ix] = oldval + h\n",
    "    pos = f(x).copy()\n",
    "    x[ix] = oldval - h\n",
    "    neg = f(x).copy()\n",
    "    x[ix] = oldval\n",
    "    \n",
    "    grad[ix] = np.sum((pos - neg) * df) / (2 * h)\n",
    "    it.iternext()\n",
    "  return grad\n"
   ]
  },
  {
   "cell_type": "code",
   "execution_count": 16,
   "metadata": {
    "collapsed": true
   },
   "outputs": [],
   "source": [
    "def eval_numerical_gradient(f, x, verbose=True, h=0.00001):\n",
    "  \"\"\" \n",
    "  a naive implementation of numerical gradient of f at x \n",
    "  - f should be a function that takes a single argument\n",
    "  - x is the point (numpy array) to evaluate the gradient at\n",
    "  \"\"\" \n",
    "\n",
    "  fx = f(x) # evaluate function value at original point\n",
    "  grad = np.zeros_like(x)\n",
    "  # iterate over all indexes in x\n",
    "  it = np.nditer(x, flags=['multi_index'], op_flags=['readwrite'])\n",
    "  while not it.finished:\n",
    "\n",
    "    # evaluate function at x+h\n",
    "    ix = it.multi_index\n",
    "    oldval = x[ix]\n",
    "    x[ix] = oldval + h # increment by h\n",
    "    fxph = f(x) # evalute f(x + h)\n",
    "    x[ix] = oldval - h\n",
    "    fxmh = f(x) # evaluate f(x - h)\n",
    "    x[ix] = oldval # restore\n",
    "\n",
    "    # compute the partial derivative with centered formula\n",
    "    grad[ix] = (fxph - fxmh) / (2 * h) # the slope\n",
    "    if verbose:\n",
    "      print(ix, grad[ix])\n",
    "    it.iternext() # step to next dimension\n",
    "\n",
    "  return grad\n"
   ]
  },
  {
   "cell_type": "markdown",
   "metadata": {},
   "source": [
    "# Convolution: Naive forward pass"
   ]
  },
  {
   "cell_type": "code",
   "execution_count": 50,
   "metadata": {
    "collapsed": true
   },
   "outputs": [],
   "source": [
    "def conv_forward_naive(x, w, b, conv_param):\n",
    "    \"\"\"\n",
    "    A naive implementation of the forward pass for a convolutional layer.\n",
    "    The input consists of N data points, each with C channels, height H and width\n",
    "    W. We convolve each input with F different filters, where each filter spans\n",
    "    all C channels and has height HH and width HH.\n",
    "    Input:\n",
    "    - x: Input data of shape (N, C, H, W)\n",
    "    - w: Filter weights of shape (F, C, HH, WW)\n",
    "    - b: Biases, of shape (F,)\n",
    "    - conv_param: A dictionary with the following keys:\n",
    "      - 'stride': The number of pixels between adjacent receptive fields in the\n",
    "        horizontal and vertical directions.\n",
    "      - 'pad': The number of pixels that will be used to zero-pad the input.\n",
    "    Returns a tuple of:\n",
    "    - out: Output data, of shape (N, F, H', W') where H' and W' are given by\n",
    "      H' = 1 + (H + 2 * pad - HH) / stride\n",
    "      W' = 1 + (W + 2 * pad - WW) / stride\n",
    "    - cache: (x, w, b, conv_param)\n",
    "    \"\"\"\n",
    "    out = None\n",
    "    ##########################################################################\n",
    "    # TODO: Implement the convolutional forward pass.                           #\n",
    "    # Hint: you can use the function np.pad for padding.                        #\n",
    "    ##########################################################################\n",
    "    N, C, H, W = x.shape\n",
    "    F, C, HH, WW = w.shape\n",
    "    S = int(conv_param['stride'])\n",
    "    P = int(conv_param['pad'])\n",
    "\n",
    "    # Add padding to each image\n",
    "    x_pad = np.pad(x, ((0,), (0,), (P,), (P,)), 'constant')\n",
    "    # Size of the output\n",
    "    Hh = 1 + (H + 2 * P - HH) / S\n",
    "    Hw = 1 + (W + 2 * P - WW) / S\n",
    "\n",
    "    out = np.zeros((N, F, Hh, Hw))\n",
    "\n",
    "    for n in range(N):  # First, iterate over all the images\n",
    "        for f in range(F):  # Second, iterate over all the kernels\n",
    "            for k in range(int(Hh)):\n",
    "                for l in range(int(Hw)):\n",
    "                    out[n, f, k, l] = np.sum(\n",
    "                        x_pad[n, :, k * S:k * S + HH, l * S:l * S + WW] * w[f, :]) + b[f]\n",
    "\n",
    "    cache = (x, w, b, conv_param)\n",
    "    return out, cache\n"
   ]
  },
  {
   "cell_type": "code",
   "execution_count": 51,
   "metadata": {
    "collapsed": false
   },
   "outputs": [
    {
     "name": "stdout",
     "output_type": "stream",
     "text": [
      "Testing conv_forward_naive\n",
      "difference:  2.21214764175e-08\n"
     ]
    },
    {
     "name": "stderr",
     "output_type": "stream",
     "text": [
      "C:\\local\\Anaconda3-4.1.1-Windows-x86_64\\lib\\site-packages\\ipykernel\\__main__.py:37: VisibleDeprecationWarning: using a non-integer number instead of an integer will result in an error in the future\n"
     ]
    }
   ],
   "source": [
    "x_shape = (2, 3, 4, 4)\n",
    "w_shape = (3, 3, 4, 4)\n",
    "x = np.linspace(-0.1, 0.5, num=np.prod(x_shape)).reshape(x_shape)\n",
    "w = np.linspace(-0.2, 0.3, num=np.prod(w_shape)).reshape(w_shape)\n",
    "b = np.linspace(-0.1, 0.2, num=3)\n",
    "\n",
    "conv_param = {'stride': 2, 'pad': 1}\n",
    "out, _ = conv_forward_naive(x, w, b, conv_param)\n",
    "correct_out = np.array([[[[[-0.08759809, -0.10987781],\n",
    "                           [-0.18387192, -0.2109216 ]],\n",
    "                          [[ 0.21027089,  0.21661097],\n",
    "                           [ 0.22847626,  0.23004637]],\n",
    "                          [[ 0.50813986,  0.54309974],\n",
    "                           [ 0.64082444,  0.67101435]]],\n",
    "                         [[[-0.98053589, -1.03143541],\n",
    "                           [-1.19128892, -1.24695841]],\n",
    "                          [[ 0.69108355,  0.66880383],\n",
    "                           [ 0.59480972,  0.56776003]],\n",
    "                          [[ 2.36270298,  2.36904306],\n",
    "                           [ 2.38090835,  2.38247847]]]]])\n",
    "\n",
    "# Compare your output to ours; difference should be around 1e-8\n",
    "print('Testing conv_forward_naive')\n",
    "print('difference: ', rel_error(out, correct_out))"
   ]
  },
  {
   "cell_type": "markdown",
   "metadata": {},
   "source": [
    "# Aside: Image processing via convolutions\n",
    "\n",
    "We will set up an input containing two images and manually set up filters that perform common image processing operations (grayscale conversion and edge detection). The convolution forward pass will apply these operations to each of the input images. We can then visualize the results as a sanity check."
   ]
  },
  {
   "cell_type": "code",
   "execution_count": 19,
   "metadata": {
    "collapsed": false
   },
   "outputs": [
    {
     "name": "stderr",
     "output_type": "stream",
     "text": [
      "C:\\local\\Anaconda3-4.1.1-Windows-x86_64\\lib\\site-packages\\ipykernel\\__main__.py:6: VisibleDeprecationWarning: using a non-integer number instead of an integer will result in an error in the future\n",
      "C:\\local\\Anaconda3-4.1.1-Windows-x86_64\\lib\\site-packages\\ipykernel\\__main__.py:37: VisibleDeprecationWarning: using a non-integer number instead of an integer will result in an error in the future\n"
     ]
    },
    {
     "data": {
      "image/png": "[encoded data removed]",
      "text/plain": [
       "<matplotlib.figure.Figure at 0x23a80e9e3c8>"
      ]
     },
     "metadata": {},
     "output_type": "display_data"
    }
   ],
   "source": [
    "from scipy.misc import imread, imresize\n",
    "\n",
    "kitten, puppy = imread('utils/kitten.jpg'), imread('utils/puppy.jpg')\n",
    "# kitten is wide, and puppy is already square\n",
    "d = kitten.shape[1] - kitten.shape[0]\n",
    "kitten_cropped = kitten[:, d/2:-d/2, :]\n",
    "\n",
    "img_size = 200   # Make this smaller if it runs too slow\n",
    "x = np.zeros((2, 3, img_size, img_size))\n",
    "x[0, :, :, :] = imresize(puppy, (img_size, img_size)).transpose((2, 0, 1))\n",
    "x[1, :, :, :] = imresize(kitten_cropped, (img_size, img_size)).transpose((2, 0, 1))\n",
    "\n",
    "# Set up a convolutional weights holding 2 filters, each 3x3\n",
    "w = np.zeros((2, 3, 3, 3))\n",
    "\n",
    "# The first filter converts the image to grayscale.\n",
    "# Set up the red, green, and blue channels of the filter.\n",
    "w[0, 0, :, :] = [[0, 0, 0], [0, 0.3, 0], [0, 0, 0]]\n",
    "w[0, 1, :, :] = [[0, 0, 0], [0, 0.6, 0], [0, 0, 0]]\n",
    "w[0, 2, :, :] = [[0, 0, 0], [0, 0.1, 0], [0, 0, 0]]\n",
    "\n",
    "# Second filter detects horizontal edges in the blue channel.\n",
    "w[1, 2, :, :] = [[1, 2, 1], [0, 0, 0], [-1, -2, -1]]\n",
    "\n",
    "# Vector of biases. We don't need any bias for the grayscale\n",
    "# filter, but for the edge detection filter we want to add 128\n",
    "# to each output so that nothing is negative.\n",
    "b = np.array([0, 128])\n",
    "\n",
    "# Compute the result of convolving each input in x with each filter in w,\n",
    "# offsetting by b, and storing the results in out.\n",
    "out, _ = conv_forward_naive(x, w, b, {'stride': 1, 'pad': 1})\n",
    "\n",
    "def imshow_noax(img, normalize=True):\n",
    "    \"\"\" Tiny helper to show images as uint8 and remove axis labels \"\"\"\n",
    "    if normalize:\n",
    "        img_max, img_min = np.max(img), np.min(img)\n",
    "        img = 255.0 * (img - img_min) / (img_max - img_min)\n",
    "    plt.imshow(img.astype('uint8'))\n",
    "    plt.gca().axis('off')\n",
    "\n",
    "# Show the original images and the results of the conv operation\n",
    "plt.subplot(2, 3, 1)\n",
    "imshow_noax(puppy, normalize=False)\n",
    "plt.title('Original image')\n",
    "plt.subplot(2, 3, 2)\n",
    "imshow_noax(out[0, 0])\n",
    "plt.title('Grayscale')\n",
    "plt.subplot(2, 3, 3)\n",
    "imshow_noax(out[0, 1])\n",
    "plt.title('Edges')\n",
    "plt.subplot(2, 3, 4)\n",
    "imshow_noax(kitten_cropped, normalize=False)\n",
    "plt.subplot(2, 3, 5)\n",
    "imshow_noax(out[1, 0])\n",
    "plt.subplot(2, 3, 6)\n",
    "imshow_noax(out[1, 1])\n",
    "plt.show()"
   ]
  },
  {
   "cell_type": "markdown",
   "metadata": {},
   "source": [
    "# Convolution: Naive backward pass\n"
   ]
  },
  {
   "cell_type": "code",
   "execution_count": 59,
   "metadata": {
    "collapsed": true
   },
   "outputs": [],
   "source": [
    "def conv_backward_naive(dout, cache):\n",
    "    \"\"\"\n",
    "    A naive implementation of the backward pass for a convolutional layer.\n",
    "    Inputs:\n",
    "    - dout: Upstream derivatives.\n",
    "    - cache: A tuple of (x, w, b, conv_param) as in conv_forward_naive\n",
    "    Returns a tuple of:\n",
    "    - dx: Gradient with respect to x\n",
    "    - dw: Gradient with respect to w\n",
    "    - db: Gradient with respect to b\n",
    "    \"\"\"\n",
    "    dx, dw, db = None, None, None\n",
    "    ##########################################################################\n",
    "    # TODO: Implement the convolutional backward pass.                          #\n",
    "    ##########################################################################\n",
    "    x, w, b, conv_param = cache\n",
    "    P = int(conv_param['pad'])\n",
    "    x_pad = np.pad(x, ((0,), (0,), (P,), (P,)), 'constant')\n",
    "\n",
    "    N, C, H, W = x.shape\n",
    "    F, C, HH, WW = w.shape\n",
    "    N, F, Hh, Hw = dout.shape\n",
    "    S = conv_param['stride']\n",
    "\n",
    "    # For dw: Size (C,HH,WW)\n",
    "    # Brut force love the loops !\n",
    "    dw = np.zeros((F, C, HH, WW))\n",
    "    for fprime in range(F):\n",
    "        for cprime in range(C):\n",
    "            for i in range(HH):\n",
    "                for j in range(WW):\n",
    "                    sub_xpad = x_pad[:, cprime, i:i + Hh * S:S, j:j + Hw * S:S]\n",
    "                    dw[fprime, cprime, i, j] = np.sum(\n",
    "                        dout[:, fprime, :, :] * sub_xpad)\n",
    "\n",
    "    # For db : Size (F,)\n",
    "    db = np.zeros((F))\n",
    "    for fprime in range(F):\n",
    "        db[fprime] = np.sum(dout[:, fprime, :, :])\n",
    "\n",
    "    dx = np.zeros((N, C, H, W))\n",
    "    for nprime in range(N):\n",
    "        for i in range(H):\n",
    "            for j in range(W):\n",
    "                for f in range(F):\n",
    "                    for k in range(Hh):\n",
    "                        for l in range(Hw):\n",
    "                            mask1 = np.zeros_like(w[f, :, :, :])\n",
    "                            mask2 = np.zeros_like(w[f, :, :, :])\n",
    "                            if (i + P - k * S) < HH and (i + P - k * S) >= 0:\n",
    "                                mask1[:, i + P - k * S, :] = 1.0\n",
    "                            if (j + P - l * S) < WW and (j + P - l * S) >= 0:\n",
    "                                mask2[:, :, j + P - l * S] = 1.0\n",
    "                            w_masked = np.sum(\n",
    "                                w[f, :, :, :] * mask1 * mask2, axis=(1, 2))\n",
    "                            dx[nprime, :, i, j] += dout[nprime, f, k, l] * w_masked\n",
    "\n",
    "    return dx, dw, db"
   ]
  },
  {
   "cell_type": "code",
   "execution_count": 22,
   "metadata": {
    "collapsed": false
   },
   "outputs": [
    {
     "name": "stderr",
     "output_type": "stream",
     "text": [
      "C:\\local\\Anaconda3-4.1.1-Windows-x86_64\\lib\\site-packages\\ipykernel\\__main__.py:37: VisibleDeprecationWarning: using a non-integer number instead of an integer will result in an error in the future\n"
     ]
    },
    {
     "name": "stdout",
     "output_type": "stream",
     "text": [
      "Testing conv_backward_naive function\n",
      "dx error:  4.69170840329e-09\n",
      "dw error:  3.41320944965e-10\n",
      "db error:  7.30463366377e-11\n"
     ]
    }
   ],
   "source": [
    "x = np.random.randn(4, 3, 5, 5)\n",
    "w = np.random.randn(2, 3, 3, 3)\n",
    "b = np.random.randn(2,)\n",
    "dout = np.random.randn(4, 2, 5, 5)\n",
    "conv_param = {'stride': 1, 'pad': 1}\n",
    "\n",
    "dx_num = eval_numerical_gradient_array(lambda x: conv_forward_naive(x, w, b, conv_param)[0], x, dout)\n",
    "dw_num = eval_numerical_gradient_array(lambda w: conv_forward_naive(x, w, b, conv_param)[0], w, dout)\n",
    "db_num = eval_numerical_gradient_array(lambda b: conv_forward_naive(x, w, b, conv_param)[0], b, dout)\n",
    "\n",
    "out, cache = conv_forward_naive(x, w, b, conv_param)\n",
    "dx, dw, db = conv_backward_naive(dout, cache)\n",
    "\n",
    "# Your errors should be around 1e-9'\n",
    "print('Testing conv_backward_naive function')\n",
    "print('dx error: ', rel_error(dx, dx_num))\n",
    "print('dw error: ', rel_error(dw, dw_num))\n",
    "print('db error: ', rel_error(db, db_num))"
   ]
  },
  {
   "cell_type": "markdown",
   "metadata": {},
   "source": [
    "# Max pooling: Naive forward"
   ]
  },
  {
   "cell_type": "code",
   "execution_count": 26,
   "metadata": {
    "collapsed": true
   },
   "outputs": [],
   "source": [
    "def max_pool_forward_naive(x, pool_param):\n",
    "    \"\"\"\n",
    "    A naive implementation of the forward pass for a max pooling layer.\n",
    "    Inputs:\n",
    "    - x: Input data, of shape (N, C, H, W)\n",
    "    - pool_param: dictionary with the following keys:\n",
    "      - 'pool_height': The height of each pooling region\n",
    "      - 'pool_width': The width of each pooling region\n",
    "      - 'stride': The distance between adjacent pooling regions\n",
    "    Returns a tuple of:\n",
    "    - out: Output data (N,C,H1,W1)\n",
    "    - cache: (x, pool_param)\n",
    "    where H1 = (H-Hp)/S+1\n",
    "    and W1 = (W-Wp)/S+1\n",
    "    \"\"\"\n",
    "\n",
    "    Hp = pool_param['pool_height']\n",
    "    Wp = pool_param['pool_width']\n",
    "    S = pool_param['stride']\n",
    "    N, C, H, W = x.shape\n",
    "    H1 = (H - Hp) / S + 1\n",
    "    W1 = (W - Wp) / S + 1\n",
    "\n",
    "    out = np.zeros((N, C, H1, W1))\n",
    "    for n in range(N):\n",
    "        for c in range(C):\n",
    "            for k in range(int(H1)):\n",
    "                for l in range(int(W1)):\n",
    "                    out[n, c, k, l] = np.max(\n",
    "                        x[n, c, k * S:k * S + Hp, l * S:l * S + Wp])\n",
    "\n",
    "    cache = (x, pool_param)\n",
    "    return out, cache"
   ]
  },
  {
   "cell_type": "code",
   "execution_count": 27,
   "metadata": {
    "collapsed": false
   },
   "outputs": [
    {
     "name": "stdout",
     "output_type": "stream",
     "text": [
      "Testing max_pool_forward_naive function:\n",
      "difference:  4.16666651573e-08\n"
     ]
    },
    {
     "name": "stderr",
     "output_type": "stream",
     "text": [
      "C:\\local\\Anaconda3-4.1.1-Windows-x86_64\\lib\\site-packages\\ipykernel\\__main__.py:24: VisibleDeprecationWarning: using a non-integer number instead of an integer will result in an error in the future\n"
     ]
    }
   ],
   "source": [
    "x_shape = (2, 3, 4, 4)\n",
    "x = np.linspace(-0.3, 0.4, num=np.prod(x_shape)).reshape(x_shape)\n",
    "pool_param = {'pool_width': 2, 'pool_height': 2, 'stride': 2}\n",
    "\n",
    "out, _ = max_pool_forward_naive(x, pool_param)\n",
    "\n",
    "correct_out = np.array([[[[-0.26315789, -0.24842105],\n",
    "                          [-0.20421053, -0.18947368]],\n",
    "                         [[-0.14526316, -0.13052632],\n",
    "                          [-0.08631579, -0.07157895]],\n",
    "                         [[-0.02736842, -0.01263158],\n",
    "                          [ 0.03157895,  0.04631579]]],\n",
    "                        [[[ 0.09052632,  0.10526316],\n",
    "                          [ 0.14947368,  0.16421053]],\n",
    "                         [[ 0.20842105,  0.22315789],\n",
    "                          [ 0.26736842,  0.28210526]],\n",
    "                         [[ 0.32631579,  0.34105263],\n",
    "                          [ 0.38526316,  0.4       ]]]])\n",
    "\n",
    "# Compare your output with ours. Difference should be around 1e-8.\n",
    "print('Testing max_pool_forward_naive function:')\n",
    "print('difference: ', rel_error(out, correct_out))"
   ]
  },
  {
   "cell_type": "markdown",
   "metadata": {},
   "source": [
    "# Max pooling: Naive backward"
   ]
  },
  {
   "cell_type": "code",
   "execution_count": 31,
   "metadata": {
    "collapsed": true
   },
   "outputs": [],
   "source": [
    "def max_pool_backward_naive(dout, cache):\n",
    "    \"\"\"\n",
    "    A naive implementation of the backward pass for a max pooling layer.\n",
    "    Inputs:\n",
    "    - dout: Upstream derivatives\n",
    "    - cache: A tuple of (x, pool_param) as in the forward pass.\n",
    "    Returns:\n",
    "    - dx: Gradient with respect to x\n",
    "    \"\"\"\n",
    "    dx = None\n",
    "    ##########################################################################\n",
    "    # TODO: Implement the max pooling backward pass                             #\n",
    "    ##########################################################################\n",
    "    x, pool_param = cache\n",
    "    Hp = pool_param['pool_height']\n",
    "    Wp = pool_param['pool_width']\n",
    "    S = pool_param['stride']\n",
    "    N, C, H, W = x.shape\n",
    "    H1 = (H - Hp) / S + 1\n",
    "    W1 = (W - Wp) / S + 1\n",
    "    H1 = int(H1)\n",
    "    W1 = int(W1)\n",
    "    dx = np.zeros((N, C, H, W))\n",
    "    for nprime in range(N):\n",
    "        for cprime in range(C):\n",
    "            for k in range(H1):\n",
    "                for l in range(W1):\n",
    "                    x_pooling = x[nprime, cprime, k *\n",
    "                                  S:k * S + Hp, l * S:l * S + Wp]\n",
    "                    maxi = np.max(x_pooling)\n",
    "                    x_mask = x_pooling == maxi\n",
    "                    dx[nprime, cprime, k * S:k * S + Hp, l * S:l *\n",
    "                        S + Wp] += dout[nprime, cprime, k, l] * x_mask\n",
    "    return dx"
   ]
  },
  {
   "cell_type": "code",
   "execution_count": 32,
   "metadata": {
    "collapsed": false
   },
   "outputs": [
    {
     "name": "stderr",
     "output_type": "stream",
     "text": [
      "C:\\local\\Anaconda3-4.1.1-Windows-x86_64\\lib\\site-packages\\ipykernel\\__main__.py:24: VisibleDeprecationWarning: using a non-integer number instead of an integer will result in an error in the future\n"
     ]
    },
    {
     "name": "stdout",
     "output_type": "stream",
     "text": [
      "Testing max_pool_backward_naive function:\n",
      "dx error:  3.2756221534e-12\n"
     ]
    }
   ],
   "source": [
    "x = np.random.randn(3, 2, 8, 8)\n",
    "dout = np.random.randn(3, 2, 4, 4)\n",
    "pool_param = {'pool_height': 2, 'pool_width': 2, 'stride': 2}\n",
    "\n",
    "dx_num = eval_numerical_gradient_array(lambda x: max_pool_forward_naive(x, pool_param)[0], x, dout)\n",
    "\n",
    "out, cache = max_pool_forward_naive(x, pool_param)\n",
    "dx = max_pool_backward_naive(dout, cache)\n",
    "\n",
    "# Your error should be around 1e-12\n",
    "print('Testing max_pool_backward_naive function:')\n",
    "print('dx error: ', rel_error(dx, dx_num))"
   ]
  },
  {
   "cell_type": "markdown",
   "metadata": {},
   "source": [
    "# Convolutional \"sandwich\" layers"
   ]
  },
  {
   "cell_type": "markdown",
   "metadata": {},
   "source": [
    "### Combinations of layers"
   ]
  },
  {
   "cell_type": "code",
   "execution_count": 55,
   "metadata": {
    "collapsed": true
   },
   "outputs": [],
   "source": [
    "def affine_forward(x, w, b):\n",
    "  \"\"\"\n",
    "  Computes the forward pass for an affine (fully-connected) layer.\n",
    "\n",
    "  The input x has shape (N, d_1, ..., d_k) and contains a minibatch of N\n",
    "  examples, where each example x[i] has shape (d_1, ..., d_k). We will\n",
    "  reshape each input into a vector of dimension D = d_1 * ... * d_k, and\n",
    "  then transform it to an output vector of dimension M.\n",
    "\n",
    "  Inputs:\n",
    "  - x: A numpy array containing input data, of shape (N, d_1, ..., d_k)\n",
    "  - w: A numpy array of weights, of shape (D, M)\n",
    "  - b: A numpy array of biases, of shape (M,)\n",
    "  \n",
    "  Returns a tuple of:\n",
    "  - out: output, of shape (N, M)\n",
    "  - cache: (x, w, b)\n",
    "  \"\"\"\n",
    "  out = None\n",
    "  out = x.reshape(x.shape[0], w.shape[0]).dot(w) + b\n",
    "  cache = (x, w, b)\n",
    "  return out, cache\n",
    "\n",
    "\n",
    "def affine_backward(dout, cache):\n",
    "  \"\"\"\n",
    "  Computes the backward pass for an affine layer.\n",
    "\n",
    "  Inputs:\n",
    "  - dout: Upstream derivative, of shape (N, M)\n",
    "  - cache: Tuple of:\n",
    "    - x: Input data, of shape (N, d_1, ... d_k)\n",
    "    - w: Weights, of shape (D, M)\n",
    "\n",
    "  Returns a tuple of:\n",
    "  - dx: Gradient with respect to x, of shape (N, d1, ..., d_k)\n",
    "  - dw: Gradient with respect to w, of shape (D, M)\n",
    "  - db: Gradient with respect to b, of shape (M,)\n",
    "  \"\"\"\n",
    "  x, w, b = cache\n",
    "  dx, dw, db = None, None, None\n",
    "  dw = x.reshape(x.shape[0], w.shape[0]).T.dot(dout)\n",
    "  db = np.sum(dout, axis=0)\n",
    "  dx = dout.dot(w.T).reshape(x.shape)\n",
    "  return dx, dw, db\n",
    "\n",
    "def relu_forward(x):\n",
    "  \"\"\"\n",
    "  Computes the forward pass for a layer of rectified linear units (ReLUs).\n",
    "\n",
    "  Input:\n",
    "  - x: Inputs, of any shape\n",
    "\n",
    "  Returns a tuple of:\n",
    "  - out: Output, of the same shape as x\n",
    "  - cache: x\n",
    "  \"\"\"\n",
    "  out = None\n",
    "  out = np.maximum(0, x)\n",
    "  cache = x\n",
    "  return out, cache\n",
    "\n",
    "def relu_backward(dout, cache):\n",
    "  \"\"\"\n",
    "  Computes the backward pass for a layer of rectified linear units (ReLUs).\n",
    "\n",
    "  Input:\n",
    "  - dout: Upstream derivatives, of any shape\n",
    "  - cache: Input x, of same shape as dout\n",
    "\n",
    "  Returns:\n",
    "  - dx: Gradient with respect to x\n",
    "  \"\"\"\n",
    "  dx, x = None, cache\n",
    "  dx = dout\n",
    "  dx[cache < 0] = 0\n",
    "  return dx\n",
    "\n",
    "def affine_relu_forward(x, w, b):\n",
    "  \"\"\"\n",
    "  Convenience layer that perorms an affine transform followed by a ReLU\n",
    "\n",
    "  Inputs:\n",
    "  - x: Input to the affine layer\n",
    "  - w, b: Weights for the affine layer\n",
    "\n",
    "  Returns a tuple of:\n",
    "  - out: Output from the ReLU\n",
    "  - cache: Object to give to the backward pass\n",
    "  \"\"\"\n",
    "  a, fc_cache = affine_forward(x, w, b)\n",
    "  out, relu_cache = relu_forward(a)\n",
    "  cache = (fc_cache, relu_cache)\n",
    "  return out, cache\n",
    "\n",
    "\n",
    "def affine_relu_backward(dout, cache):\n",
    "  \"\"\"\n",
    "  Backward pass for the affine-relu convenience layer\n",
    "  \"\"\"\n",
    "  fc_cache, relu_cache = cache\n",
    "  da = relu_backward(dout, relu_cache)\n",
    "  dx, dw, db = affine_backward(da, fc_cache)\n",
    "  return dx, dw, db\n",
    "\n",
    "\n",
    "def conv_relu_forward(x, w, b, conv_param):\n",
    "    \"\"\"\n",
    "    A convenience layer that performs a convolution followed by a ReLU.\n",
    "    Inputs:\n",
    "    - x: Input to the convolutional layer\n",
    "    - w, b, conv_param: Weights and parameters for the convolutional layer\n",
    "    Returns a tuple of:\n",
    "    - out: Output from the ReLU\n",
    "    - cache: Object to give to the backward pass\n",
    "    \"\"\"\n",
    "    a, conv_cache = conv_forward_naive(x, w, b, conv_param)\n",
    "    out, relu_cache = relu_forward(a)\n",
    "\n",
    "    cache = (conv_cache, relu_cache)\n",
    "    return out, cache\n",
    "\n",
    "\n",
    "def conv_relu_backward(dout, cache):\n",
    "    \"\"\"\n",
    "    Backward pass for the conv-relu convenience layer.\n",
    "    \"\"\"\n",
    "    conv_cache, relu_cache = cache\n",
    "    da = relu_backward(dout, relu_cache)\n",
    "    dx, dw, db = conv_backward_naive(da, conv_cache)\n",
    "    return dx, dw, db\n",
    "\n",
    "\n",
    "def conv_relu_pool_forward(x, w, b, conv_param, pool_param):\n",
    "    \"\"\"\n",
    "    Convenience layer that performs a convolution, a ReLU, and a pool.\n",
    "    Inputs:\n",
    "    - x: Input to the convolutional layer\n",
    "    - w, b, conv_param: Weights and parameters for the convolutional layer\n",
    "    - pool_param: Parameters for the pooling layer\n",
    "    Returns a tuple of:\n",
    "    - out: Output from the pooling layer\n",
    "    - cache: Object to give to the backward pass\n",
    "    \"\"\"\n",
    "    a, conv_cache = conv_forward_naive(x, w, b, conv_param)\n",
    "    s, relu_cache = relu_forward(a)\n",
    "    out, pool_cache = max_pool_forward_naive(s, pool_param)\n",
    "    cache = (conv_cache, relu_cache, pool_cache)\n",
    "    return out, cache\n",
    "\n",
    "\n",
    "def conv_relu_pool_backward(dout, cache):\n",
    "    \"\"\"\n",
    "    Backward pass for the conv-relu-pool convenience layer\n",
    "    \"\"\"\n",
    "    conv_cache, relu_cache, pool_cache = cache\n",
    "    ds = max_pool_backward_naive(dout, pool_cache)\n",
    "    da = relu_backward(ds, relu_cache)\n",
    "    dx, dw, db = conv_backward_naive(da, conv_cache)\n",
    "    return dx, dw, db\n",
    "\n",
    "def getsoftmaxloss(x, y):\n",
    "  \"\"\"\n",
    "  Computes the loss and gradient for softmax classification.\n",
    "\n",
    "  Inputs:\n",
    "  - x: Input data, of shape (N, C) where x[i, j] is the score for the jth class\n",
    "    for the ith input.\n",
    "  - y: Vector of labels, of shape (N,) where y[i] is the label for x[i] and\n",
    "    0 <= y[i] < C\n",
    "\n",
    "  Returns a tuple of:\n",
    "  - loss: Scalar giving the loss\n",
    "  - dx: Gradient of the loss with respect to x\n",
    "  \"\"\"\n",
    "  probs = np.exp(x - np.max(x, axis=1, keepdims=True))\n",
    "  probs /= np.sum(probs, axis=1, keepdims=True)\n",
    "  N = x.shape[0]\n",
    "  loss = -np.sum(np.log(probs[np.arange(N), y])) / N\n",
    "  dx = probs.copy()\n",
    "  dx[np.arange(N), y] -= 1\n",
    "  dx /= N\n",
    "  return loss, dx\n"
   ]
  },
  {
   "cell_type": "code",
   "execution_count": 41,
   "metadata": {
    "collapsed": false
   },
   "outputs": [
    {
     "name": "stderr",
     "output_type": "stream",
     "text": [
      "C:\\local\\Anaconda3-4.1.1-Windows-x86_64\\lib\\site-packages\\ipykernel\\__main__.py:37: VisibleDeprecationWarning: using a non-integer number instead of an integer will result in an error in the future\n",
      "C:\\local\\Anaconda3-4.1.1-Windows-x86_64\\lib\\site-packages\\ipykernel\\__main__.py:24: VisibleDeprecationWarning: using a non-integer number instead of an integer will result in an error in the future\n"
     ]
    },
    {
     "name": "stdout",
     "output_type": "stream",
     "text": [
      "Testing conv_relu_pool\n",
      "dx error:  2.28446485389e-08\n",
      "dw error:  1.70270096513e-09\n",
      "db error:  1.90810552086e-10\n"
     ]
    }
   ],
   "source": [
    "x = np.random.randn(2, 3, 16, 16)\n",
    "w = np.random.randn(3, 3, 3, 3)\n",
    "b = np.random.randn(3,)\n",
    "dout = np.random.randn(2, 3, 8, 8)\n",
    "conv_param = {'stride': 1, 'pad': 1}\n",
    "pool_param = {'pool_height': 2, 'pool_width': 2, 'stride': 2}\n",
    "\n",
    "out, cache = conv_relu_pool_forward(x, w, b, conv_param, pool_param)\n",
    "dx, dw, db = conv_relu_pool_backward(dout, cache)\n",
    "\n",
    "dx_num = eval_numerical_gradient_array(lambda x: conv_relu_pool_forward(x, w, b, conv_param, pool_param)[0], x, dout)\n",
    "dw_num = eval_numerical_gradient_array(lambda w: conv_relu_pool_forward(x, w, b, conv_param, pool_param)[0], w, dout)\n",
    "db_num = eval_numerical_gradient_array(lambda b: conv_relu_pool_forward(x, w, b, conv_param, pool_param)[0], b, dout)\n",
    "\n",
    "print('Testing conv_relu_pool')\n",
    "print('dx error: ', rel_error(dx_num, dx))\n",
    "print('dw error: ', rel_error(dw_num, dw))\n",
    "print('db error: ', rel_error(db_num, db))"
   ]
  },
  {
   "cell_type": "code",
   "execution_count": 43,
   "metadata": {
    "collapsed": false
   },
   "outputs": [
    {
     "name": "stderr",
     "output_type": "stream",
     "text": [
      "C:\\local\\Anaconda3-4.1.1-Windows-x86_64\\lib\\site-packages\\ipykernel\\__main__.py:37: VisibleDeprecationWarning: using a non-integer number instead of an integer will result in an error in the future\n"
     ]
    },
    {
     "name": "stdout",
     "output_type": "stream",
     "text": [
      "Testing conv_relu:\n",
      "dx error:  3.16896319871e-07\n",
      "dw error:  2.68558004059e-10\n",
      "db error:  4.05019138643e-11\n"
     ]
    }
   ],
   "source": [
    "x = np.random.randn(2, 3, 8, 8)\n",
    "w = np.random.randn(3, 3, 3, 3)\n",
    "b = np.random.randn(3,)\n",
    "dout = np.random.randn(2, 3, 8, 8)\n",
    "conv_param = {'stride': 1, 'pad': 1}\n",
    "\n",
    "out, cache = conv_relu_forward(x, w, b, conv_param)\n",
    "dx, dw, db = conv_relu_backward(dout, cache)\n",
    "\n",
    "dx_num = eval_numerical_gradient_array(lambda x: conv_relu_forward(x, w, b, conv_param)[0], x, dout)\n",
    "dw_num = eval_numerical_gradient_array(lambda w: conv_relu_forward(x, w, b, conv_param)[0], w, dout)\n",
    "db_num = eval_numerical_gradient_array(lambda b: conv_relu_forward(x, w, b, conv_param)[0], b, dout)\n",
    "\n",
    "print('Testing conv_relu:')\n",
    "print('dx error: ', rel_error(dx_num, dx))\n",
    "print('dw error: ', rel_error(dw_num, dw))\n",
    "print('db error: ', rel_error(db_num, db))"
   ]
  },
  {
   "cell_type": "markdown",
   "metadata": {},
   "source": [
    "# Three-layer ConvNet"
   ]
  },
  {
   "cell_type": "code",
   "execution_count": 57,
   "metadata": {
    "collapsed": false
   },
   "outputs": [],
   "source": [
    "class ThreeLayerConvNet(object):\n",
    "    \"\"\"\n",
    "    A three-layer convolutional network with the following architecture:\n",
    "    conv - relu - 2x2 max pool - affine - relu - affine - softmax\n",
    "    The network operates on minibatches of data that have shape (N, C, H, W)\n",
    "    consisting of N images, each with height H and width W and with C input\n",
    "    channels.\n",
    "    \"\"\"\n",
    "\n",
    "    def __init__(self, input_dim=(3, 32, 32), num_filters=32, filter_size=7,\n",
    "                 hidden_dim=100, num_classes=10, weight_scale=1e-3, reg=0.0,\n",
    "                 dtype=np.float32, use_batchnorm=False):\n",
    "        \"\"\"\n",
    "        Initialize a new network.\n",
    "        Inputs:\n",
    "        - input_dim: Tuple (C, H, W) giving size of input data\n",
    "        - num_filters: Number of filters to use in the convolutional layer\n",
    "        - filter_size: Size of filters to use in the convolutional layer\n",
    "        - hidden_dim: Number of units to use in the fully-connected hidden layer\n",
    "        - num_classes: Number of scores to produce from the final affine layer.\n",
    "        - weight_scale: Scalar giving standard deviation for random initialization\n",
    "          of weights.\n",
    "        - reg: Scalar giving L2 regularization strength\n",
    "        - dtype: numpy datatype to use for computation.\n",
    "        \"\"\"\n",
    "        self.use_batchnorm = use_batchnorm\n",
    "        self.params = {}\n",
    "        self.reg = reg\n",
    "        self.dtype = dtype\n",
    "        self.bn_params = {}\n",
    "\n",
    "        #######################################################################\n",
    "        # Initializing weights and biases for the three-layer convolutional    #\n",
    "        # network. Weights should be initialized from a Gaussian with standard     #\n",
    "        # deviation equal to weight_scale; biases should be initialized to zero.   #\n",
    "        # All weights and biases should be stored in the dictionary self.params.   #\n",
    "        # Store weights and biases for the convolutional layer using the keys 'W1' #\n",
    "        # and 'b1'; use keys 'W2' and 'b2' for the weights and biases of the       #\n",
    "        # hidden affine layer, and keys 'W3' and 'b3' for the weights and biases   #\n",
    "        # of the output affine layer.                                              #\n",
    "        #######################################################################\n",
    "\n",
    "        # Size of the input\n",
    "        C, H, W = input_dim\n",
    "\n",
    "        # Conv layer\n",
    "        # The parameters of the conv is of size (F,C,HH,WW) with\n",
    "        # F give the nb of filters, C,HH,WW characterize the size of\n",
    "        # each filter\n",
    "        # Input size : (N,C,H,W)\n",
    "        # Output size : (N,F,Hc,Wc)\n",
    "        F = num_filters\n",
    "        filter_height = filter_size\n",
    "        filter_width = filter_size\n",
    "        stride_conv = 1  # stride\n",
    "        P = (filter_size - 1) / 2  # padd\n",
    "        Hc = (H + 2 * P - filter_height) / stride_conv + 1\n",
    "        Wc = (W + 2 * P - filter_width) / stride_conv + 1\n",
    "\n",
    "        W1 = weight_scale * np.random.randn(F, C, filter_height, filter_width)\n",
    "        b1 = np.zeros(F)\n",
    "\n",
    "        # Pool layer : 2*2\n",
    "        # The pool layer has no parameters but is important in the\n",
    "        # count of dimension.\n",
    "        # Input : (N,F,Hc,Wc)\n",
    "        # Ouput : (N,F,Hp,Wp)\n",
    "\n",
    "        width_pool = 2\n",
    "        height_pool = 2\n",
    "        stride_pool = 2\n",
    "        Hp = (Hc - height_pool) / stride_pool + 1\n",
    "        Wp = (Wc - width_pool) / stride_pool + 1\n",
    "\n",
    "        # Hidden Affine layer\n",
    "        # Size of the parameter (F*Hp*Wp,H1)\n",
    "        # Input: (N,F*Hp*Wp)\n",
    "        # Output: (N,Hh)\n",
    "\n",
    "        Hh = hidden_dim\n",
    "        W2 = weight_scale * np.random.randn(F * Hp * Wp, Hh)\n",
    "        b2 = np.zeros(Hh)\n",
    "\n",
    "        # Output affine layer\n",
    "        # Size of the parameter (Hh,Hc)\n",
    "        # Input: (N,Hh)\n",
    "        # Output: (N,Hc)\n",
    "\n",
    "        Hc = num_classes\n",
    "        W3 = weight_scale * np.random.randn(Hh, Hc)\n",
    "        b3 = np.zeros(Hc)\n",
    "\n",
    "        self.params.update({'W1': W1,\n",
    "                            'W2': W2,\n",
    "                            'W3': W3,\n",
    "                            'b1': b1,\n",
    "                            'b2': b2,\n",
    "                            'b3': b3})\n",
    "\n",
    "        # With batch normalization we need to keep track of running means and\n",
    "        # variances, so we need to pass a special bn_param object to each batch\n",
    "        # normalization layer. You should pass self.bn_params[0] to the forward pass\n",
    "        # of the first batch normalization layer, self.bn_params[1] to the forward\n",
    "        # pass of the second batch normalization layer, etc.\n",
    "\n",
    "        if self.use_batchnorm:\n",
    "            print('We use batchnorm here')\n",
    "            bn_param1 = {'mode': 'train',\n",
    "                         'running_mean': np.zeros(F),\n",
    "                         'running_var': np.zeros(F)}\n",
    "            gamma1 = np.ones(F)\n",
    "            beta1 = np.zeros(F)\n",
    "\n",
    "            bn_param2 = {'mode': 'train',\n",
    "                         'running_mean': np.zeros(Hh),\n",
    "                         'running_var': np.zeros(Hh)}\n",
    "            gamma2 = np.ones(Hh)\n",
    "            beta2 = np.zeros(Hh)\n",
    "\n",
    "            self.bn_params.update({'bn_param1': bn_param1,\n",
    "                                   'bn_param2': bn_param2})\n",
    "\n",
    "            self.params.update({'beta1': beta1,\n",
    "                                'beta2': beta2,\n",
    "                                'gamma1': gamma1,\n",
    "                                'gamma2': gamma2})\n",
    "\n",
    "        for k, v in self.params.items():\n",
    "            self.params[k] = v.astype(dtype)\n",
    "\n",
    "    def loss(self, X, y=None):\n",
    "        \"\"\"\n",
    "        Evaluate loss and gradient for the three-layer convolutional network.\n",
    "        Input / output: Same API as TwoLayerNet in fc_net.py.\n",
    "        \"\"\"\n",
    "        X = X.astype(self.dtype)\n",
    "        mode = 'test' if y is None else 'train'\n",
    "\n",
    "        if self.use_batchnorm:\n",
    "            for key, bn_param in self.bn_params.items():\n",
    "                bn_param[mode] = mode\n",
    "\n",
    "        N = X.shape[0]\n",
    "\n",
    "        W1, b1 = self.params['W1'], self.params['b1']\n",
    "        W2, b2 = self.params['W2'], self.params['b2']\n",
    "        W3, b3 = self.params['W3'], self.params['b3']\n",
    "        if self.use_batchnorm:\n",
    "            bn_param1, gamma1, beta1 = self.bn_params[\n",
    "                'bn_param1'], self.params['gamma1'], self.params['beta1']\n",
    "            bn_param2, gamma2, beta2 = self.bn_params[\n",
    "                'bn_param2'], self.params['gamma2'], self.params['beta2']\n",
    "\n",
    "        # pass conv_param to the forward pass for the convolutional layer\n",
    "        filter_size = W1.shape[2]\n",
    "        conv_param = {'stride': 1, 'pad': (filter_size - 1) / 2}\n",
    "\n",
    "        # pass pool_param to the forward pass for the max-pooling layer\n",
    "        pool_param = {'pool_height': 2, 'pool_width': 2, 'stride': 2}\n",
    "\n",
    "        scores = None\n",
    "        # Forward into the conv layer\n",
    "        x = X\n",
    "        w = W1\n",
    "        b = b1\n",
    "        if self.use_batchnorm:\n",
    "            beta = beta1\n",
    "            gamma = gamma1\n",
    "            bn_param = bn_param1\n",
    "            conv_layer, cache_conv_layer = conv_norm_relu_pool_forward(\n",
    "                x, w, b, conv_param, pool_param, gamma, beta, bn_param)\n",
    "        else:\n",
    "            conv_layer, cache_conv_layer = conv_relu_pool_forward(\n",
    "                x, w, b, conv_param, pool_param)\n",
    "\n",
    "        N, F, Hp, Wp = conv_layer.shape  # output shape\n",
    "\n",
    "        # Forward into the hidden layer\n",
    "        x = conv_layer.reshape((N, F * Hp * Wp))\n",
    "        w = W2\n",
    "        b = b2\n",
    "        if self.use_batchnorm:\n",
    "            gamma = gamma2\n",
    "            beta = beta2\n",
    "            bn_param = bn_param2\n",
    "            hidden_layer, cache_hidden_layer = affine_norm_relu_forward(\n",
    "                x, w, b, gamma, beta, bn_param)\n",
    "        else:\n",
    "            hidden_layer, cache_hidden_layer = affine_relu_forward(x, w, b)\n",
    "        N, Hh = hidden_layer.shape\n",
    "\n",
    "        # Forward into the linear output layer\n",
    "        x = hidden_layer\n",
    "        w = W3\n",
    "        b = b3\n",
    "        scores, cache_scores = affine_forward(x, w, b)\n",
    "\n",
    "        if y is None:\n",
    "            return scores\n",
    "\n",
    "        loss, grads = 0, {}\n",
    "        #######################################################################\n",
    "        # Implementing the backward pass for the three-layer convolutional net, #\n",
    "        # storing the loss and gradients in the loss and grads variables. Compute  #\n",
    "        # data loss using softmax, and make sure that grads[k] holds the gradients #\n",
    "        # for self.params[k]. Don't forget to add L2 regularization!               #\n",
    "        #######################################################################\n",
    "\n",
    "        data_loss, dscores = getsoftmaxloss(scores, y)\n",
    "        reg_loss = 0.5 * self.reg * np.sum(W1**2)\n",
    "        reg_loss += 0.5 * self.reg * np.sum(W2**2)\n",
    "        reg_loss += 0.5 * self.reg * np.sum(W3**2)\n",
    "        loss = data_loss + reg_loss\n",
    "\n",
    "        # Backpropagation\n",
    "        grads = {}\n",
    "        # Backprop into output layer\n",
    "        dx3, dW3, db3 = affine_backward(dscores, cache_scores)\n",
    "        dW3 += self.reg * W3\n",
    "\n",
    "        # Backprop into first layer\n",
    "        if self.use_batchnorm:\n",
    "            dx2, dW2, db2, dgamma2, dbeta2 = affine_norm_relu_backward(\n",
    "                dx3, cache_hidden_layer)\n",
    "        else:\n",
    "            dx2, dW2, db2 = affine_relu_backward(dx3, cache_hidden_layer)\n",
    "\n",
    "        dW2 += self.reg * W2\n",
    "\n",
    "        # Backprop into the conv layer\n",
    "        dx2 = dx2.reshape(N, F, Hp, Wp)\n",
    "        if self.use_batchnorm:\n",
    "            dx, dW1, db1, dgamma1, dbeta1 = conv_norm_relu_pool_backward(\n",
    "                dx2, cache_conv_layer)\n",
    "        else:\n",
    "            dx, dW1, db1 = conv_relu_pool_backward(dx2, cache_conv_layer)\n",
    "\n",
    "        dW1 += self.reg * W1\n",
    "\n",
    "        grads.update({'W1': dW1,\n",
    "                      'b1': db1,\n",
    "                      'W2': dW2,\n",
    "                      'b2': db2,\n",
    "                      'W3': dW3,\n",
    "                      'b3': db3})\n",
    "\n",
    "        if self.use_batchnorm:\n",
    "            grads.update({'beta1': dbeta1,\n",
    "                          'beta2': dbeta2,\n",
    "                          'gamma1': dgamma1,\n",
    "                          'gamma2': dgamma2})\n",
    "\n",
    "        return loss, grads"
   ]
  },
  {
   "cell_type": "code",
   "execution_count": null,
   "metadata": {
    "collapsed": false
   },
   "outputs": [],
   "source": [
    "model = ThreeLayerConvNet()\n",
    "\n",
    "N = 50\n",
    "X = np.random.randn(N, 3, 32, 32)\n",
    "y = np.random.randint(10, size=N)\n",
    "\n",
    "loss, grads = model.loss(X, y)\n",
    "print('Initial loss (no regularization): ', loss)\n",
    "\n",
    "model.reg = 0.5\n",
    "loss, grads = model.loss(X, y)\n",
    "print('Initial loss (with regularization): ', loss)"
   ]
  },
  {
   "cell_type": "markdown",
   "metadata": {},
   "source": [
    "## Gradient check\n",
    "After the loss looks reasonable, using numeric gradient checking to make sure that your backward pass is correct."
   ]
  },
  {
   "cell_type": "code",
   "execution_count": null,
   "metadata": {
    "collapsed": false
   },
   "outputs": [],
   "source": [
    "num_inputs = 2\n",
    "input_dim = (3, 16, 16)\n",
    "reg = 0.0\n",
    "num_classes = 10\n",
    "X = np.random.randn(num_inputs, *input_dim)\n",
    "y = np.random.randint(num_classes, size=num_inputs)\n",
    "\n",
    "model = ThreeLayerConvNet(num_filters=3, filter_size=3,\n",
    "                          input_dim=input_dim, hidden_dim=7,\n",
    "                          dtype=np.float64)\n",
    "loss, grads = model.loss(X, y)\n",
    "for param_name in sorted(grads):\n",
    "    f = lambda _: model.loss(X, y)[0]\n",
    "    param_grad_num = eval_numerical_gradient(f, model.params[param_name], verbose=False, h=1e-6)\n",
    "    e = rel_error(param_grad_num, grads[param_name])\n",
    "    print('%s max relative error: %e' % (param_name, rel_error(param_grad_num, grads[param_name])))"
   ]
  },
  {
   "cell_type": "markdown",
   "metadata": {},
   "source": [
    "## Overfit small data\n",
    "A nice trick is to train your model with just a few training samples. You should be able to overfit small datasets, which will result in very high training accuracy and comparatively low validation accuracy."
   ]
  },
  {
   "cell_type": "code",
   "execution_count": null,
   "metadata": {
    "collapsed": false
   },
   "outputs": [],
   "source": [
    "num_train = 100\n",
    "small_data = {\n",
    "  'X_train': data['X_train'][:num_train],\n",
    "  'y_train': data['y_train'][:num_train],\n",
    "  'X_val': data['X_val'],\n",
    "  'y_val': data['y_val'],\n",
    "}\n",
    "\n",
    "model = ThreeLayerConvNet(weight_scale=1e-2)\n",
    "\n",
    "solver = Solver(model, small_data,\n",
    "                num_epochs=10, batch_size=50,\n",
    "                update_rule='adam',\n",
    "                optim_config={\n",
    "                  'learning_rate': 1e-3,\n",
    "                },\n",
    "                verbose=True, print_every=1)\n",
    "solver.train()"
   ]
  },
  {
   "cell_type": "markdown",
   "metadata": {},
   "source": [
    "Plotting the loss, training accuracy, and validation accuracy should show clear overfitting:"
   ]
  },
  {
   "cell_type": "code",
   "execution_count": null,
   "metadata": {
    "collapsed": false
   },
   "outputs": [],
   "source": [
    "plt.subplot(2, 1, 1)\n",
    "plt.plot(solver.loss_history, 'o')\n",
    "plt.xlabel('iteration')\n",
    "plt.ylabel('loss')\n",
    "\n",
    "plt.subplot(2, 1, 2)\n",
    "plt.plot(solver.train_acc_history, '-o')\n",
    "plt.plot(solver.val_acc_history, '-o')\n",
    "plt.legend(['train', 'val'], loc='upper left')\n",
    "plt.xlabel('epoch')\n",
    "plt.ylabel('accuracy')\n",
    "plt.show()"
   ]
  },
  {
   "cell_type": "markdown",
   "metadata": {},
   "source": [
    "## Train the net"
   ]
  },
  {
   "cell_type": "code",
   "execution_count": null,
   "metadata": {
    "collapsed": false,
    "scrolled": false
   },
   "outputs": [],
   "source": [
    "model = ThreeLayerConvNet(weight_scale=0.001, hidden_dim=500, reg=0.001)\n",
    "\n",
    "solver = Solver(model, data,\n",
    "                num_epochs=1, batch_size=50,\n",
    "                update_rule='adam',\n",
    "                optim_config={\n",
    "                  'learning_rate': 1e-3,\n",
    "                },\n",
    "                verbose=True, print_every=20)\n",
    "solver.train()"
   ]
  },
  {
   "cell_type": "markdown",
   "metadata": {},
   "source": [
    "## Visualize Filters"
   ]
  },
  {
   "cell_type": "code",
   "execution_count": 1,
   "metadata": {
    "collapsed": true
   },
   "outputs": [],
   "source": [
    "def visualize_grid(Xs, ubound=255.0, padding=1):\n",
    "  \"\"\"\n",
    "  Reshape a 4D tensor of image data to a grid for easy visualization.\n",
    "\n",
    "  Inputs:\n",
    "  - Xs: Data of shape (N, H, W, C)\n",
    "  - ubound: Output grid will have values scaled to the range [0, ubound]\n",
    "  - padding: The number of blank pixels between elements of the grid\n",
    "  \"\"\"\n",
    "  (N, H, W, C) = Xs.shape\n",
    "  grid_size = int(ceil(sqrt(N)))\n",
    "  grid_height = H * grid_size + padding * (grid_size - 1)\n",
    "  grid_width = W * grid_size + padding * (grid_size - 1)\n",
    "  grid = np.zeros((grid_height, grid_width, C))\n",
    "  next_idx = 0\n",
    "  y0, y1 = 0, H\n",
    "  for y in xrange(grid_size):\n",
    "    x0, x1 = 0, W\n",
    "    for x in xrange(grid_size):\n",
    "      if next_idx < N:\n",
    "        img = Xs[next_idx]\n",
    "        low, high = np.min(img), np.max(img)\n",
    "        grid[y0:y1, x0:x1] = ubound * (img - low) / (high - low)\n",
    "        # grid[y0:y1, x0:x1] = Xs[next_idx]\n",
    "        next_idx += 1\n",
    "      x0 += W + padding\n",
    "      x1 += W + padding\n",
    "    y0 += H + padding\n",
    "    y1 += H + padding\n",
    "  # grid_max = np.max(grid)\n",
    "  # grid_min = np.min(grid)\n",
    "  # grid = ubound * (grid - grid_min) / (grid_max - grid_min)\n",
    "  return grid\n"
   ]
  },
  {
   "cell_type": "code",
   "execution_count": 2,
   "metadata": {
    "collapsed": false
   },
   "outputs": [
    {
     "ename": "NameError",
     "evalue": "name 'model' is not defined",
     "output_type": "error",
     "traceback": [
      "\u001b[1;31m---------------------------------------------------------------------------\u001b[0m",
      "\u001b[1;31mNameError\u001b[0m                                 Traceback (most recent call last)",
      "\u001b[1;32m<ipython-input-2-1a671ffc636b>\u001b[0m in \u001b[0;36m<module>\u001b[1;34m()\u001b[0m\n\u001b[1;32m----> 1\u001b[1;33m \u001b[0mgrid\u001b[0m \u001b[1;33m=\u001b[0m \u001b[0mvisualize_grid\u001b[0m\u001b[1;33m(\u001b[0m\u001b[0mmodel\u001b[0m\u001b[1;33m.\u001b[0m\u001b[0mparams\u001b[0m\u001b[1;33m[\u001b[0m\u001b[1;34m'W1'\u001b[0m\u001b[1;33m]\u001b[0m\u001b[1;33m.\u001b[0m\u001b[0mtranspose\u001b[0m\u001b[1;33m(\u001b[0m\u001b[1;36m0\u001b[0m\u001b[1;33m,\u001b[0m \u001b[1;36m2\u001b[0m\u001b[1;33m,\u001b[0m \u001b[1;36m3\u001b[0m\u001b[1;33m,\u001b[0m \u001b[1;36m1\u001b[0m\u001b[1;33m)\u001b[0m\u001b[1;33m)\u001b[0m\u001b[1;33m\u001b[0m\u001b[0m\n\u001b[0m\u001b[0;32m      2\u001b[0m \u001b[0mplt\u001b[0m\u001b[1;33m.\u001b[0m\u001b[0mimshow\u001b[0m\u001b[1;33m(\u001b[0m\u001b[0mgrid\u001b[0m\u001b[1;33m.\u001b[0m\u001b[0mastype\u001b[0m\u001b[1;33m(\u001b[0m\u001b[1;34m'uint8'\u001b[0m\u001b[1;33m)\u001b[0m\u001b[1;33m)\u001b[0m\u001b[1;33m\u001b[0m\u001b[0m\n\u001b[0;32m      3\u001b[0m \u001b[0mplt\u001b[0m\u001b[1;33m.\u001b[0m\u001b[0maxis\u001b[0m\u001b[1;33m(\u001b[0m\u001b[1;34m'off'\u001b[0m\u001b[1;33m)\u001b[0m\u001b[1;33m\u001b[0m\u001b[0m\n\u001b[0;32m      4\u001b[0m \u001b[0mplt\u001b[0m\u001b[1;33m.\u001b[0m\u001b[0mgcf\u001b[0m\u001b[1;33m(\u001b[0m\u001b[1;33m)\u001b[0m\u001b[1;33m.\u001b[0m\u001b[0mset_size_inches\u001b[0m\u001b[1;33m(\u001b[0m\u001b[1;36m5\u001b[0m\u001b[1;33m,\u001b[0m \u001b[1;36m5\u001b[0m\u001b[1;33m)\u001b[0m\u001b[1;33m\u001b[0m\u001b[0m\n\u001b[0;32m      5\u001b[0m \u001b[0mplt\u001b[0m\u001b[1;33m.\u001b[0m\u001b[0mshow\u001b[0m\u001b[1;33m(\u001b[0m\u001b[1;33m)\u001b[0m\u001b[1;33m\u001b[0m\u001b[0m\n",
      "\u001b[1;31mNameError\u001b[0m: name 'model' is not defined"
     ]
    }
   ],
   "source": [
    "grid = visualize_grid(model.params['W1'].transpose(0, 2, 3, 1))\n",
    "plt.imshow(grid.astype('uint8'))\n",
    "plt.axis('off')\n",
    "plt.gcf().set_size_inches(5, 5)\n",
    "plt.show()"
   ]
  },
  {
   "cell_type": "markdown",
   "metadata": {},
   "source": [
    "# Spatial Batch Normalization\n",
    "We already saw that batch normalization is a very useful technique for training deep fully-connected networks. Batch normalization can also be used for convolutional networks, but we need to tweak it a bit; the modification will be called \"spatial batch normalization.\"\n",
    "\n",
    "Normally batch-normalization accepts inputs of shape `(N, D)` and produces outputs of shape `(N, D)`, where we normalize across the minibatch dimension `N`. For data coming from convolutional layers, batch normalization needs to accept inputs of shape `(N, C, H, W)` and produce outputs of shape `(N, C, H, W)` where the `N` dimension gives the minibatch size and the `(H, W)` dimensions give the spatial size of the feature map.\n",
    "\n",
    "If the feature map was produced using convolutions, then we expect the statistics of each feature channel to be relatively consistent both between different imagesand different locations within the same image. Therefore spatial batch normalization computes a mean and variance for each of the `C` feature channels by computing statistics over both the minibatch dimension `N` and the spatial dimensions `H` and `W`."
   ]
  },
  {
   "cell_type": "markdown",
   "metadata": {},
   "source": [
    "## Spatial batch normalization: forward\n"
   ]
  },
  {
   "cell_type": "code",
   "execution_count": 6,
   "metadata": {
    "collapsed": true
   },
   "outputs": [],
   "source": [
    "def spatial_batchnorm_forward(x, gamma, beta, bn_param):\n",
    "    \"\"\"\n",
    "    Computes the forward pass for spatial batch normalization.\n",
    "    Inputs:\n",
    "    - x: Input data of shape (N, C, H, W)\n",
    "    - gamma: Scale parameter, of shape (C,)\n",
    "    - beta: Shift parameter, of shape (C,)\n",
    "    - bn_param: Dictionary with the following keys:\n",
    "      - mode: 'train' or 'test'; required\n",
    "      - eps: Constant for numeric stability\n",
    "      - momentum: Constant for running mean / variance. momentum=0 means that\n",
    "        old information is discarded completely at every time step, while\n",
    "        momentum=1 means that new information is never incorporated. The\n",
    "        default of momentum=0.9 should work well in most situations.\n",
    "      - running_mean: Array of shape (D,) giving running mean of features\n",
    "      - running_var Array of shape (D,) giving running variance of features\n",
    "    Returns a tuple of:\n",
    "    - out: Output data, of shape (N, C, H, W)\n",
    "    - cache: Values needed for the backward pass\n",
    "    \"\"\"\n",
    "    out, cache = None, None\n",
    "\n",
    "    ##########################################################################\n",
    "    # Implementing the forward pass for spatial batch normalization.         #\n",
    "    #                                                                           #\n",
    "    # We can implement spatial batch normalization using the vanilla     #\n",
    "    # version of batch normalization defined above.                             #\n",
    "    ##########################################################################\n",
    "\n",
    "    N, C, H, W = x.shape\n",
    "    mode = bn_param['mode']\n",
    "    eps = bn_param.get('eps', 1e-5)\n",
    "    momentum = bn_param.get('momentum', 0.9)\n",
    "\n",
    "    running_mean = bn_param.get('running_mean', np.zeros(C, dtype=x.dtype))\n",
    "    running_var = bn_param.get('running_var', np.zeros(C, dtype=x.dtype))\n",
    "\n",
    "    if mode == 'train':\n",
    "        # Step 1 , calcul the average for each channel\n",
    "        mu = (1. / (N * H * W) * np.sum(x, axis=(0, 2, 3))).reshape(1, C, 1, 1)\n",
    "        var = (1. / (N * H * W) * np.sum((x - mu)**2,\n",
    "                                         axis=(0, 2, 3))).reshape(1, C, 1, 1)\n",
    "        xhat = (x - mu) / (np.sqrt(eps + var))\n",
    "        out = gamma.reshape(1, C, 1, 1) * xhat + beta.reshape(1, C, 1, 1)\n",
    "\n",
    "        running_mean = momentum * running_mean + \\\n",
    "            (1.0 - momentum) * np.squeeze(mu)\n",
    "        running_var = momentum * running_var + \\\n",
    "            (1.0 - momentum) * np.squeeze(var)\n",
    "\n",
    "        cache = (mu, var, x, xhat, gamma, beta, bn_param)\n",
    "\n",
    "        # Store the updated running means back into bn_param\n",
    "        bn_param['running_mean'] = running_mean\n",
    "        bn_param['running_var'] = running_var\n",
    "\n",
    "    elif mode == 'test':\n",
    "        mu = running_mean.reshape(1, C, 1, 1)\n",
    "        var = running_var.reshape(1, C, 1, 1)\n",
    "\n",
    "        xhat = (x - mu) / (np.sqrt(eps + var))\n",
    "        out = gamma.reshape(1, C, 1, 1) * xhat + beta.reshape(1, C, 1, 1)\n",
    "        cache = (mu, var, x, xhat, gamma, beta, bn_param)\n",
    "\n",
    "    else:\n",
    "        raise ValueError('Invalid forward batchnorm mode \"%s\"' % mode)\n",
    "\n",
    "    return out, cache\n"
   ]
  },
  {
   "cell_type": "code",
   "execution_count": 7,
   "metadata": {
    "collapsed": false
   },
   "outputs": [
    {
     "name": "stdout",
     "output_type": "stream",
     "text": [
      "Before spatial batch normalization:\n",
      "  Shape:  (2, 3, 4, 5)\n",
      "  Means:  [  9.03538988  10.00896073   9.36229225]\n",
      "  Stds:  [ 3.17613457  3.34650949  4.41617976]\n",
      "After spatial batch normalization:\n",
      "  Shape:  (2, 3, 4, 5)\n",
      "  Means:  [ -1.94289029e-17  -4.55191440e-16   3.74700271e-16]\n",
      "  Stds:  [ 0.9999995   0.99999955  0.99999974]\n",
      "After spatial batch normalization (nontrivial gamma, beta):\n",
      "  Shape:  (2, 3, 4, 5)\n",
      "  Means:  [ 6.  7.  8.]\n",
      "  Stds:  [ 2.99999851  3.99999821  4.99999872]\n"
     ]
    }
   ],
   "source": [
    "# Check the training-time forward pass by checking means and variances\n",
    "# of features both before and after spatial batch normalization\n",
    "\n",
    "N, C, H, W = 2, 3, 4, 5\n",
    "x = 4 * np.random.randn(N, C, H, W) + 10\n",
    "\n",
    "print('Before spatial batch normalization:')\n",
    "print('  Shape: ', x.shape)\n",
    "print('  Means: ', x.mean(axis=(0, 2, 3)))\n",
    "print('  Stds: ', x.std(axis=(0, 2, 3)))\n",
    "\n",
    "# Means should be close to zero and stds close to one\n",
    "gamma, beta = np.ones(C), np.zeros(C)\n",
    "bn_param = {'mode': 'train'}\n",
    "out, _ = spatial_batchnorm_forward(x, gamma, beta, bn_param)\n",
    "print('After spatial batch normalization:')\n",
    "print('  Shape: ', out.shape)\n",
    "print('  Means: ', out.mean(axis=(0, 2, 3)))\n",
    "print('  Stds: ', out.std(axis=(0, 2, 3)))\n",
    "\n",
    "# Means should be close to beta and stds close to gamma\n",
    "gamma, beta = np.asarray([3, 4, 5]), np.asarray([6, 7, 8])\n",
    "out, _ = spatial_batchnorm_forward(x, gamma, beta, bn_param)\n",
    "print('After spatial batch normalization (nontrivial gamma, beta):')\n",
    "print('  Shape: ', out.shape)\n",
    "print('  Means: ', out.mean(axis=(0, 2, 3)))\n",
    "print('  Stds: ', out.std(axis=(0, 2, 3)))"
   ]
  },
  {
   "cell_type": "code",
   "execution_count": 10,
   "metadata": {
    "collapsed": false
   },
   "outputs": [
    {
     "name": "stdout",
     "output_type": "stream",
     "text": [
      "After spatial batch normalization (test-time):\n",
      "  means:  [ 0.04473363  0.01261154  0.0455559   0.0063879 ]\n",
      "  stds:  [ 1.0171791   1.00752302  0.9659472   1.0092495 ]\n"
     ]
    }
   ],
   "source": [
    "# Check the test-time forward pass by running the training-time\n",
    "# forward pass many times to warm up the running averages, and then\n",
    "# checking the means and variances of activations after a test-time\n",
    "# forward pass.\n",
    "\n",
    "N, C, H, W = 10, 4, 11, 12\n",
    "\n",
    "bn_param = {'mode': 'train'}\n",
    "gamma = np.ones(C)\n",
    "beta = np.zeros(C)\n",
    "for t in range(50):\n",
    "  x = 2.3 * np.random.randn(N, C, H, W) + 13\n",
    "  spatial_batchnorm_forward(x, gamma, beta, bn_param)\n",
    "bn_param['mode'] = 'test'\n",
    "x = 2.3 * np.random.randn(N, C, H, W) + 13\n",
    "a_norm, _ = spatial_batchnorm_forward(x, gamma, beta, bn_param)\n",
    "\n",
    "# Means should be close to zero and stds close to one, but will be\n",
    "# noisier than training-time forward passes.\n",
    "print('After spatial batch normalization (test-time):')\n",
    "print('  means: ', a_norm.mean(axis=(0, 2, 3)))\n",
    "print('  stds: ', a_norm.std(axis=(0, 2, 3)))"
   ]
  },
  {
   "cell_type": "markdown",
   "metadata": {},
   "source": [
    "## Spatial batch normalization: backward\n"
   ]
  },
  {
   "cell_type": "code",
   "execution_count": 11,
   "metadata": {
    "collapsed": true
   },
   "outputs": [],
   "source": [
    "def spatial_batchnorm_backward(dout, cache):\n",
    "    \"\"\"\n",
    "    Computes the backward pass for spatial batch normalization.\n",
    "    Inputs:\n",
    "    - dout: Upstream derivatives, of shape (N, C, H, W)\n",
    "    - cache: Values from the forward pass\n",
    "    Returns a tuple of:\n",
    "    - dx: Gradient with respect to inputs, of shape (N, C, H, W)\n",
    "    - dgamma: Gradient with respect to scale parameter, of shape (C,)\n",
    "    - dbeta: Gradient with respect to shift parameter, of shape (C,)\n",
    "    \"\"\"\n",
    "    dx, dgamma, dbeta = None, None, None\n",
    "\n",
    "    ##########################################################################\n",
    "    # TODO: Implement the backward pass for spatial batch normalization.        #\n",
    "    #                                                                           #\n",
    "    # HINT: You can implement spatieal batch normalization using the vanilla     #\n",
    "    # version of batch normalization defined above. Your implementation should  #\n",
    "    # be very short; ours is less than five lines.                              #\n",
    "    ##########################################################################\n",
    "\n",
    "    mu, var, x, xhat, gamma, beta, bn_param = cache\n",
    "    N, C, H, W = x.shape\n",
    "    mode = bn_param['mode']\n",
    "    eps = bn_param.get('eps', 1e-5)\n",
    "\n",
    "    gamma = gamma.reshape(1, C, 1, 1)\n",
    "    beta = beta.reshape(1, C, 1, 1)\n",
    "\n",
    "    dbeta = np.sum(dout, axis=(0, 2, 3))\n",
    "    dgamma = np.sum(dout * xhat, axis=(0, 2, 3))\n",
    "\n",
    "    Nt = N * H * W\n",
    "    dx = (1. / Nt) * gamma * (var + eps)**(-1. / 2.) * (\n",
    "        Nt * dout\n",
    "        - np.sum(dout, axis=(0, 2, 3)).reshape(1, C, 1, 1)\n",
    "        - (x - mu) * (var + eps)**(-1.0) * np.sum(dout * (x - mu), axis=(0, 2, 3)).reshape(1, C, 1, 1))\n",
    "\n",
    "    return dx, dgamma, dbeta\n",
    "\n"
   ]
  },
  {
   "cell_type": "code",
   "execution_count": 14,
   "metadata": {
    "collapsed": false
   },
   "outputs": [
    {
     "name": "stdout",
     "output_type": "stream",
     "text": [
      "dx error:  1.51549499407e-06\n",
      "dgamma error:  1.64986841842e-12\n",
      "dbeta error:  3.27659584803e-12\n"
     ]
    }
   ],
   "source": [
    "N, C, H, W = 2, 3, 4, 5\n",
    "x = 5 * np.random.randn(N, C, H, W) + 12\n",
    "gamma = np.random.randn(C)\n",
    "beta = np.random.randn(C)\n",
    "dout = np.random.randn(N, C, H, W)\n",
    "\n",
    "bn_param = {'mode': 'train'}\n",
    "fx = lambda x: spatial_batchnorm_forward(x, gamma, beta, bn_param)[0]\n",
    "fg = lambda a: spatial_batchnorm_forward(x, gamma, beta, bn_param)[0]\n",
    "fb = lambda b: spatial_batchnorm_forward(x, gamma, beta, bn_param)[0]\n",
    "\n",
    "dx_num = eval_numerical_gradient_array(fx, x, dout)\n",
    "da_num = eval_numerical_gradient_array(fg, gamma, dout)\n",
    "db_num = eval_numerical_gradient_array(fb, beta, dout)\n",
    "\n",
    "_, cache = spatial_batchnorm_forward(x, gamma, beta, bn_param)\n",
    "dx, dgamma, dbeta = spatial_batchnorm_backward(dout, cache)\n",
    "print('dx error: ', rel_error(dx_num, dx))\n",
    "print('dgamma error: ', rel_error(da_num, dgamma))\n",
    "print('dbeta error: ', rel_error(db_num, dbeta))"
   ]
  }
 ],
 "metadata": {
  "kernelspec": {
   "display_name": "Python [Root]",
   "language": "python",
   "name": "Python [Root]"
  },
  "language_info": {
   "codemirror_mode": {
    "name": "ipython",
    "version": 3
   },
   "file_extension": ".py",
   "mimetype": "text/x-python",
   "name": "python",
   "nbconvert_exporter": "python",
   "pygments_lexer": "ipython3",
   "version": "3.5.2"
  }
 },
 "nbformat": 4,
 "nbformat_minor": 0
}
